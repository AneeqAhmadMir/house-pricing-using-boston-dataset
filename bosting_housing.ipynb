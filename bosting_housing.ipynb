{
  "nbformat": 4,
  "nbformat_minor": 0,
  "metadata": {
    "colab": {
      "provenance": []
    },
    "kernelspec": {
      "name": "python3",
      "display_name": "Python 3"
    },
    "language_info": {
      "name": "python"
    }
  },
  "cells": [
    {
      "cell_type": "code",
      "execution_count": 3,
      "metadata": {
        "id": "EBeCBbrHFh0a"
      },
      "outputs": [],
      "source": [
        "import numpy as np\n",
        "import pandas as pd\n",
        "import matplotlib.pyplot as plt\n",
        "import seaborn as sns\n",
        "import warnings\n",
        "warnings.filterwarnings('ignore')"
      ]
    },
    {
      "cell_type": "code",
      "source": [
        "df = pd.read_csv('/content/Housing.csv')"
      ],
      "metadata": {
        "id": "NE6wGvU-GPAu"
      },
      "execution_count": 5,
      "outputs": []
    },
    {
      "cell_type": "code",
      "source": [
        "df.head(3)"
      ],
      "metadata": {
        "colab": {
          "base_uri": "https://localhost:8080/",
          "height": 247
        },
        "id": "prPmjNa1F3ke",
        "outputId": "1d4c4409-86a6-4749-fcc5-5d5c3052768f"
      },
      "execution_count": 6,
      "outputs": [
        {
          "output_type": "execute_result",
          "data": {
            "text/plain": [
              "   Avg. Area Income  Avg. Area House Age  Avg. Area Number of Rooms  \\\n",
              "0      79545.458574             5.682861                   7.009188   \n",
              "1      79248.642455             6.002900                   6.730821   \n",
              "2      61287.067179             5.865890                   8.512727   \n",
              "\n",
              "   Avg. Area Number of Bedrooms  Area Population         Price  \\\n",
              "0                          4.09     23086.800503  1.059034e+06   \n",
              "1                          3.09     40173.072174  1.505891e+06   \n",
              "2                          5.13     36882.159400  1.058988e+06   \n",
              "\n",
              "                                             Address  \n",
              "0  208 Michael Ferry Apt. 674\\nLaurabury, NE 3701...  \n",
              "1  188 Johnson Views Suite 079\\nLake Kathleen, CA...  \n",
              "2  9127 Elizabeth Stravenue\\nDanieltown, WI 06482...  "
            ],
            "text/html": [
              "\n",
              "  <div id=\"df-bd1147f1-efce-4f31-9596-766404396acd\" class=\"colab-df-container\">\n",
              "    <div>\n",
              "<style scoped>\n",
              "    .dataframe tbody tr th:only-of-type {\n",
              "        vertical-align: middle;\n",
              "    }\n",
              "\n",
              "    .dataframe tbody tr th {\n",
              "        vertical-align: top;\n",
              "    }\n",
              "\n",
              "    .dataframe thead th {\n",
              "        text-align: right;\n",
              "    }\n",
              "</style>\n",
              "<table border=\"1\" class=\"dataframe\">\n",
              "  <thead>\n",
              "    <tr style=\"text-align: right;\">\n",
              "      <th></th>\n",
              "      <th>Avg. Area Income</th>\n",
              "      <th>Avg. Area House Age</th>\n",
              "      <th>Avg. Area Number of Rooms</th>\n",
              "      <th>Avg. Area Number of Bedrooms</th>\n",
              "      <th>Area Population</th>\n",
              "      <th>Price</th>\n",
              "      <th>Address</th>\n",
              "    </tr>\n",
              "  </thead>\n",
              "  <tbody>\n",
              "    <tr>\n",
              "      <th>0</th>\n",
              "      <td>79545.458574</td>\n",
              "      <td>5.682861</td>\n",
              "      <td>7.009188</td>\n",
              "      <td>4.09</td>\n",
              "      <td>23086.800503</td>\n",
              "      <td>1.059034e+06</td>\n",
              "      <td>208 Michael Ferry Apt. 674\\nLaurabury, NE 3701...</td>\n",
              "    </tr>\n",
              "    <tr>\n",
              "      <th>1</th>\n",
              "      <td>79248.642455</td>\n",
              "      <td>6.002900</td>\n",
              "      <td>6.730821</td>\n",
              "      <td>3.09</td>\n",
              "      <td>40173.072174</td>\n",
              "      <td>1.505891e+06</td>\n",
              "      <td>188 Johnson Views Suite 079\\nLake Kathleen, CA...</td>\n",
              "    </tr>\n",
              "    <tr>\n",
              "      <th>2</th>\n",
              "      <td>61287.067179</td>\n",
              "      <td>5.865890</td>\n",
              "      <td>8.512727</td>\n",
              "      <td>5.13</td>\n",
              "      <td>36882.159400</td>\n",
              "      <td>1.058988e+06</td>\n",
              "      <td>9127 Elizabeth Stravenue\\nDanieltown, WI 06482...</td>\n",
              "    </tr>\n",
              "  </tbody>\n",
              "</table>\n",
              "</div>\n",
              "    <div class=\"colab-df-buttons\">\n",
              "\n",
              "  <div class=\"colab-df-container\">\n",
              "    <button class=\"colab-df-convert\" onclick=\"convertToInteractive('df-bd1147f1-efce-4f31-9596-766404396acd')\"\n",
              "            title=\"Convert this dataframe to an interactive table.\"\n",
              "            style=\"display:none;\">\n",
              "\n",
              "  <svg xmlns=\"http://www.w3.org/2000/svg\" height=\"24px\" viewBox=\"0 -960 960 960\">\n",
              "    <path d=\"M120-120v-720h720v720H120Zm60-500h600v-160H180v160Zm220 220h160v-160H400v160Zm0 220h160v-160H400v160ZM180-400h160v-160H180v160Zm440 0h160v-160H620v160ZM180-180h160v-160H180v160Zm440 0h160v-160H620v160Z\"/>\n",
              "  </svg>\n",
              "    </button>\n",
              "\n",
              "  <style>\n",
              "    .colab-df-container {\n",
              "      display:flex;\n",
              "      gap: 12px;\n",
              "    }\n",
              "\n",
              "    .colab-df-convert {\n",
              "      background-color: #E8F0FE;\n",
              "      border: none;\n",
              "      border-radius: 50%;\n",
              "      cursor: pointer;\n",
              "      display: none;\n",
              "      fill: #1967D2;\n",
              "      height: 32px;\n",
              "      padding: 0 0 0 0;\n",
              "      width: 32px;\n",
              "    }\n",
              "\n",
              "    .colab-df-convert:hover {\n",
              "      background-color: #E2EBFA;\n",
              "      box-shadow: 0px 1px 2px rgba(60, 64, 67, 0.3), 0px 1px 3px 1px rgba(60, 64, 67, 0.15);\n",
              "      fill: #174EA6;\n",
              "    }\n",
              "\n",
              "    .colab-df-buttons div {\n",
              "      margin-bottom: 4px;\n",
              "    }\n",
              "\n",
              "    [theme=dark] .colab-df-convert {\n",
              "      background-color: #3B4455;\n",
              "      fill: #D2E3FC;\n",
              "    }\n",
              "\n",
              "    [theme=dark] .colab-df-convert:hover {\n",
              "      background-color: #434B5C;\n",
              "      box-shadow: 0px 1px 3px 1px rgba(0, 0, 0, 0.15);\n",
              "      filter: drop-shadow(0px 1px 2px rgba(0, 0, 0, 0.3));\n",
              "      fill: #FFFFFF;\n",
              "    }\n",
              "  </style>\n",
              "\n",
              "    <script>\n",
              "      const buttonEl =\n",
              "        document.querySelector('#df-bd1147f1-efce-4f31-9596-766404396acd button.colab-df-convert');\n",
              "      buttonEl.style.display =\n",
              "        google.colab.kernel.accessAllowed ? 'block' : 'none';\n",
              "\n",
              "      async function convertToInteractive(key) {\n",
              "        const element = document.querySelector('#df-bd1147f1-efce-4f31-9596-766404396acd');\n",
              "        const dataTable =\n",
              "          await google.colab.kernel.invokeFunction('convertToInteractive',\n",
              "                                                    [key], {});\n",
              "        if (!dataTable) return;\n",
              "\n",
              "        const docLinkHtml = 'Like what you see? Visit the ' +\n",
              "          '<a target=\"_blank\" href=https://colab.research.google.com/notebooks/data_table.ipynb>data table notebook</a>'\n",
              "          + ' to learn more about interactive tables.';\n",
              "        element.innerHTML = '';\n",
              "        dataTable['output_type'] = 'display_data';\n",
              "        await google.colab.output.renderOutput(dataTable, element);\n",
              "        const docLink = document.createElement('div');\n",
              "        docLink.innerHTML = docLinkHtml;\n",
              "        element.appendChild(docLink);\n",
              "      }\n",
              "    </script>\n",
              "  </div>\n",
              "\n",
              "\n",
              "    <div id=\"df-068a96c4-0a3f-41cd-9e40-bb380fc03bc3\">\n",
              "      <button class=\"colab-df-quickchart\" onclick=\"quickchart('df-068a96c4-0a3f-41cd-9e40-bb380fc03bc3')\"\n",
              "                title=\"Suggest charts\"\n",
              "                style=\"display:none;\">\n",
              "\n",
              "<svg xmlns=\"http://www.w3.org/2000/svg\" height=\"24px\"viewBox=\"0 0 24 24\"\n",
              "     width=\"24px\">\n",
              "    <g>\n",
              "        <path d=\"M19 3H5c-1.1 0-2 .9-2 2v14c0 1.1.9 2 2 2h14c1.1 0 2-.9 2-2V5c0-1.1-.9-2-2-2zM9 17H7v-7h2v7zm4 0h-2V7h2v10zm4 0h-2v-4h2v4z\"/>\n",
              "    </g>\n",
              "</svg>\n",
              "      </button>\n",
              "\n",
              "<style>\n",
              "  .colab-df-quickchart {\n",
              "      --bg-color: #E8F0FE;\n",
              "      --fill-color: #1967D2;\n",
              "      --hover-bg-color: #E2EBFA;\n",
              "      --hover-fill-color: #174EA6;\n",
              "      --disabled-fill-color: #AAA;\n",
              "      --disabled-bg-color: #DDD;\n",
              "  }\n",
              "\n",
              "  [theme=dark] .colab-df-quickchart {\n",
              "      --bg-color: #3B4455;\n",
              "      --fill-color: #D2E3FC;\n",
              "      --hover-bg-color: #434B5C;\n",
              "      --hover-fill-color: #FFFFFF;\n",
              "      --disabled-bg-color: #3B4455;\n",
              "      --disabled-fill-color: #666;\n",
              "  }\n",
              "\n",
              "  .colab-df-quickchart {\n",
              "    background-color: var(--bg-color);\n",
              "    border: none;\n",
              "    border-radius: 50%;\n",
              "    cursor: pointer;\n",
              "    display: none;\n",
              "    fill: var(--fill-color);\n",
              "    height: 32px;\n",
              "    padding: 0;\n",
              "    width: 32px;\n",
              "  }\n",
              "\n",
              "  .colab-df-quickchart:hover {\n",
              "    background-color: var(--hover-bg-color);\n",
              "    box-shadow: 0 1px 2px rgba(60, 64, 67, 0.3), 0 1px 3px 1px rgba(60, 64, 67, 0.15);\n",
              "    fill: var(--button-hover-fill-color);\n",
              "  }\n",
              "\n",
              "  .colab-df-quickchart-complete:disabled,\n",
              "  .colab-df-quickchart-complete:disabled:hover {\n",
              "    background-color: var(--disabled-bg-color);\n",
              "    fill: var(--disabled-fill-color);\n",
              "    box-shadow: none;\n",
              "  }\n",
              "\n",
              "  .colab-df-spinner {\n",
              "    border: 2px solid var(--fill-color);\n",
              "    border-color: transparent;\n",
              "    border-bottom-color: var(--fill-color);\n",
              "    animation:\n",
              "      spin 1s steps(1) infinite;\n",
              "  }\n",
              "\n",
              "  @keyframes spin {\n",
              "    0% {\n",
              "      border-color: transparent;\n",
              "      border-bottom-color: var(--fill-color);\n",
              "      border-left-color: var(--fill-color);\n",
              "    }\n",
              "    20% {\n",
              "      border-color: transparent;\n",
              "      border-left-color: var(--fill-color);\n",
              "      border-top-color: var(--fill-color);\n",
              "    }\n",
              "    30% {\n",
              "      border-color: transparent;\n",
              "      border-left-color: var(--fill-color);\n",
              "      border-top-color: var(--fill-color);\n",
              "      border-right-color: var(--fill-color);\n",
              "    }\n",
              "    40% {\n",
              "      border-color: transparent;\n",
              "      border-right-color: var(--fill-color);\n",
              "      border-top-color: var(--fill-color);\n",
              "    }\n",
              "    60% {\n",
              "      border-color: transparent;\n",
              "      border-right-color: var(--fill-color);\n",
              "    }\n",
              "    80% {\n",
              "      border-color: transparent;\n",
              "      border-right-color: var(--fill-color);\n",
              "      border-bottom-color: var(--fill-color);\n",
              "    }\n",
              "    90% {\n",
              "      border-color: transparent;\n",
              "      border-bottom-color: var(--fill-color);\n",
              "    }\n",
              "  }\n",
              "</style>\n",
              "\n",
              "      <script>\n",
              "        async function quickchart(key) {\n",
              "          const quickchartButtonEl =\n",
              "            document.querySelector('#' + key + ' button');\n",
              "          quickchartButtonEl.disabled = true;  // To prevent multiple clicks.\n",
              "          quickchartButtonEl.classList.add('colab-df-spinner');\n",
              "          try {\n",
              "            const charts = await google.colab.kernel.invokeFunction(\n",
              "                'suggestCharts', [key], {});\n",
              "          } catch (error) {\n",
              "            console.error('Error during call to suggestCharts:', error);\n",
              "          }\n",
              "          quickchartButtonEl.classList.remove('colab-df-spinner');\n",
              "          quickchartButtonEl.classList.add('colab-df-quickchart-complete');\n",
              "        }\n",
              "        (() => {\n",
              "          let quickchartButtonEl =\n",
              "            document.querySelector('#df-068a96c4-0a3f-41cd-9e40-bb380fc03bc3 button');\n",
              "          quickchartButtonEl.style.display =\n",
              "            google.colab.kernel.accessAllowed ? 'block' : 'none';\n",
              "        })();\n",
              "      </script>\n",
              "    </div>\n",
              "\n",
              "    </div>\n",
              "  </div>\n"
            ],
            "application/vnd.google.colaboratory.intrinsic+json": {
              "type": "dataframe",
              "variable_name": "df",
              "summary": "{\n  \"name\": \"df\",\n  \"rows\": 5000,\n  \"fields\": [\n    {\n      \"column\": \"Avg. Area Income\",\n      \"properties\": {\n        \"dtype\": \"number\",\n        \"std\": 10657.991213830363,\n        \"min\": 17796.631189543397,\n        \"max\": 107701.74837763936,\n        \"num_unique_values\": 5000,\n        \"samples\": [\n          61907.59334528668,\n          57160.20224330715,\n          70190.79644494488\n        ],\n        \"semantic_type\": \"\",\n        \"description\": \"\"\n      }\n    },\n    {\n      \"column\": \"Avg. Area House Age\",\n      \"properties\": {\n        \"dtype\": \"number\",\n        \"std\": 0.9914561798281712,\n        \"min\": 2.644304186036705,\n        \"max\": 9.51908806613594,\n        \"num_unique_values\": 5000,\n        \"samples\": [\n          7.017837824742983,\n          6.893260095195835,\n          6.745053761849909\n        ],\n        \"semantic_type\": \"\",\n        \"description\": \"\"\n      }\n    },\n    {\n      \"column\": \"Avg. Area Number of Rooms\",\n      \"properties\": {\n        \"dtype\": \"number\",\n        \"std\": 1.0058332312773872,\n        \"min\": 3.2361940234262048,\n        \"max\": 10.759588335938624,\n        \"num_unique_values\": 5000,\n        \"samples\": [\n          6.440255754985625,\n          6.921532164642504,\n          6.6625667327280365\n        ],\n        \"semantic_type\": \"\",\n        \"description\": \"\"\n      }\n    },\n    {\n      \"column\": \"Avg. Area Number of Bedrooms\",\n      \"properties\": {\n        \"dtype\": \"number\",\n        \"std\": 1.2341372654846827,\n        \"min\": 2.0,\n        \"max\": 6.5,\n        \"num_unique_values\": 255,\n        \"samples\": [\n          3.5,\n          3.41,\n          3.33\n        ],\n        \"semantic_type\": \"\",\n        \"description\": \"\"\n      }\n    },\n    {\n      \"column\": \"Area Population\",\n      \"properties\": {\n        \"dtype\": \"number\",\n        \"std\": 9925.650113501244,\n        \"min\": 172.61068627290044,\n        \"max\": 69621.7133777904,\n        \"num_unique_values\": 5000,\n        \"samples\": [\n          43828.947207425765,\n          43467.14703549413,\n          29215.13611183857\n        ],\n        \"semantic_type\": \"\",\n        \"description\": \"\"\n      }\n    },\n    {\n      \"column\": \"Price\",\n      \"properties\": {\n        \"dtype\": \"number\",\n        \"std\": 353117.6265810608,\n        \"min\": 15938.657923287848,\n        \"max\": 2469065.5941747027,\n        \"num_unique_values\": 5000,\n        \"samples\": [\n          1339096.0772451318,\n          1251794.178836864,\n          1340094.9662054193\n        ],\n        \"semantic_type\": \"\",\n        \"description\": \"\"\n      }\n    },\n    {\n      \"column\": \"Address\",\n      \"properties\": {\n        \"dtype\": \"string\",\n        \"num_unique_values\": 5000,\n        \"samples\": [\n          \"7521 Gregory Meadows\\nEast Johntown, CO 93230-5255\",\n          \"15828 Marshall Stravenue Suite 199\\nEast Matthewmouth, TN 71861-6319\",\n          \"USNS Brandt\\nFPO AE 72594\"\n        ],\n        \"semantic_type\": \"\",\n        \"description\": \"\"\n      }\n    }\n  ]\n}"
            }
          },
          "metadata": {},
          "execution_count": 6
        }
      ]
    },
    {
      "cell_type": "code",
      "source": [
        "# Dimension of the dataset\n",
        "print(np.shape(df))"
      ],
      "metadata": {
        "colab": {
          "base_uri": "https://localhost:8080/"
        },
        "id": "grdXUHGfF9mk",
        "outputId": "02bf4a1c-08a2-48ea-acef-275f9ab64d6d"
      },
      "execution_count": 7,
      "outputs": [
        {
          "output_type": "stream",
          "name": "stdout",
          "text": [
            "(5000, 7)\n"
          ]
        }
      ]
    },
    {
      "cell_type": "code",
      "source": [
        "# Let's summarize the data to see the distribution of data\n",
        "print(df.describe())"
      ],
      "metadata": {
        "colab": {
          "base_uri": "https://localhost:8080/"
        },
        "id": "TuN2h4EwGgvS",
        "outputId": "f07c1f4b-202f-4424-a81f-74d654a482fe"
      },
      "execution_count": 8,
      "outputs": [
        {
          "output_type": "stream",
          "name": "stdout",
          "text": [
            "       Avg. Area Income  Avg. Area House Age  Avg. Area Number of Rooms  \\\n",
            "count       5000.000000          5000.000000                5000.000000   \n",
            "mean       68583.108984             5.977222                   6.987792   \n",
            "std        10657.991214             0.991456                   1.005833   \n",
            "min        17796.631190             2.644304                   3.236194   \n",
            "25%        61480.562388             5.322283                   6.299250   \n",
            "50%        68804.286404             5.970429                   7.002902   \n",
            "75%        75783.338666             6.650808                   7.665871   \n",
            "max       107701.748378             9.519088                  10.759588   \n",
            "\n",
            "       Avg. Area Number of Bedrooms  Area Population         Price  \n",
            "count                   5000.000000      5000.000000  5.000000e+03  \n",
            "mean                       3.981330     36163.516039  1.232073e+06  \n",
            "std                        1.234137      9925.650114  3.531176e+05  \n",
            "min                        2.000000       172.610686  1.593866e+04  \n",
            "25%                        3.140000     29403.928702  9.975771e+05  \n",
            "50%                        4.050000     36199.406689  1.232669e+06  \n",
            "75%                        4.490000     42861.290769  1.471210e+06  \n",
            "max                        6.500000     69621.713378  2.469066e+06  \n"
          ]
        }
      ]
    },
    {
      "cell_type": "code",
      "source": [
        "df.isnull().sum()"
      ],
      "metadata": {
        "colab": {
          "base_uri": "https://localhost:8080/",
          "height": 303
        },
        "id": "Cvl1wD5pGqB6",
        "outputId": "53ea3d5e-fcc9-41fd-bc1d-93183fd24ca1"
      },
      "execution_count": 9,
      "outputs": [
        {
          "output_type": "execute_result",
          "data": {
            "text/plain": [
              "Avg. Area Income                0\n",
              "Avg. Area House Age             0\n",
              "Avg. Area Number of Rooms       0\n",
              "Avg. Area Number of Bedrooms    0\n",
              "Area Population                 0\n",
              "Price                           0\n",
              "Address                         0\n",
              "dtype: int64"
            ],
            "text/html": [
              "<div>\n",
              "<style scoped>\n",
              "    .dataframe tbody tr th:only-of-type {\n",
              "        vertical-align: middle;\n",
              "    }\n",
              "\n",
              "    .dataframe tbody tr th {\n",
              "        vertical-align: top;\n",
              "    }\n",
              "\n",
              "    .dataframe thead th {\n",
              "        text-align: right;\n",
              "    }\n",
              "</style>\n",
              "<table border=\"1\" class=\"dataframe\">\n",
              "  <thead>\n",
              "    <tr style=\"text-align: right;\">\n",
              "      <th></th>\n",
              "      <th>0</th>\n",
              "    </tr>\n",
              "  </thead>\n",
              "  <tbody>\n",
              "    <tr>\n",
              "      <th>Avg. Area Income</th>\n",
              "      <td>0</td>\n",
              "    </tr>\n",
              "    <tr>\n",
              "      <th>Avg. Area House Age</th>\n",
              "      <td>0</td>\n",
              "    </tr>\n",
              "    <tr>\n",
              "      <th>Avg. Area Number of Rooms</th>\n",
              "      <td>0</td>\n",
              "    </tr>\n",
              "    <tr>\n",
              "      <th>Avg. Area Number of Bedrooms</th>\n",
              "      <td>0</td>\n",
              "    </tr>\n",
              "    <tr>\n",
              "      <th>Area Population</th>\n",
              "      <td>0</td>\n",
              "    </tr>\n",
              "    <tr>\n",
              "      <th>Price</th>\n",
              "      <td>0</td>\n",
              "    </tr>\n",
              "    <tr>\n",
              "      <th>Address</th>\n",
              "      <td>0</td>\n",
              "    </tr>\n",
              "  </tbody>\n",
              "</table>\n",
              "</div><br><label><b>dtype:</b> int64</label>"
            ]
          },
          "metadata": {},
          "execution_count": 9
        }
      ]
    },
    {
      "cell_type": "code",
      "source": [
        "duplicates = df.duplicated().sum()\n",
        "print(duplicates)"
      ],
      "metadata": {
        "colab": {
          "base_uri": "https://localhost:8080/"
        },
        "id": "DAMQ8pwOHr5r",
        "outputId": "eb1ae073-17c4-4619-dc9e-851a1ab519a0"
      },
      "execution_count": 10,
      "outputs": [
        {
          "output_type": "stream",
          "name": "stdout",
          "text": [
            "0\n"
          ]
        }
      ]
    },
    {
      "cell_type": "code",
      "source": [
        "#remove address column\n",
        "df.drop('Address',axis =1,inplace = True)"
      ],
      "metadata": {
        "id": "1D4_dg2tH8ae"
      },
      "execution_count": 11,
      "outputs": []
    },
    {
      "cell_type": "code",
      "source": [
        "#split the data to be used in models\n",
        "\n",
        "#create matrix of features(input)\n",
        "x=df.drop('Price',axis = 1)# graps everything else but price\n",
        "\n",
        "#create target variable\n",
        "y=df['Price'] # y is the column we are tring to predict\n"
      ],
      "metadata": {
        "id": "u2zT3_bNIBbu"
      },
      "execution_count": 12,
      "outputs": []
    },
    {
      "cell_type": "code",
      "source": [
        "from sklearn import preprocessing\n",
        "pre_process  = preprocessing.StandardScaler().fit(x)\n",
        "x_transform = pre_process.fit_transform(x)"
      ],
      "metadata": {
        "id": "JNUni2tFIKeM"
      },
      "execution_count": 13,
      "outputs": []
    },
    {
      "cell_type": "code",
      "source": [
        "x_transform.shape\n",
        "x_transform"
      ],
      "metadata": {
        "colab": {
          "base_uri": "https://localhost:8080/"
        },
        "id": "A3Oj2uPPIOti",
        "outputId": "e6c7b0a5-23b5-4400-e1ba-4a9a18bd1ad0"
      },
      "execution_count": 14,
      "outputs": [
        {
          "output_type": "execute_result",
          "data": {
            "text/plain": [
              "array([[ 1.02865969, -0.29692705,  0.02127433,  0.08806222, -1.31759867],\n",
              "       [ 1.00080775,  0.02590164, -0.25550611, -0.72230146,  0.40399945],\n",
              "       [-0.68462916, -0.11230283,  1.5162435 ,  0.93084045,  0.07240989],\n",
              "       ...,\n",
              "       [-0.48723454,  1.28447022, -2.17026949, -1.50025059, -0.29193658],\n",
              "       [-0.05459152, -0.44669439,  0.14154061,  1.18205319,  0.65111608],\n",
              "       [-0.28831272,  0.01521477, -0.19434166,  0.07185495,  1.04162464]])"
            ]
          },
          "metadata": {},
          "execution_count": 14
        }
      ]
    },
    {
      "cell_type": "code",
      "source": [
        "# use x and y variables to split the training data into train and test set\n",
        "from sklearn.model_selection import train_test_split\n",
        "x_train,x_test,y_train,y_test = train_test_split(x_transform,y,test_size =.20 ,random_state = 101)"
      ],
      "metadata": {
        "id": "Kwc355xbIRGY"
      },
      "execution_count": 15,
      "outputs": []
    },
    {
      "cell_type": "markdown",
      "source": [
        "# Linear Regression from scrach"
      ],
      "metadata": {
        "id": "djRN2p1nIzX9"
      }
    },
    {
      "cell_type": "code",
      "source": [
        "class LinearRegression:\n",
        "    def __init__(self, lr=0.01, n_iters=1000):\n",
        "        self.lr = lr\n",
        "        self.n_iters = n_iters\n",
        "        self.weights = None\n",
        "        self.bias = None\n",
        "\n",
        "    def fit(self, X, y):\n",
        "        num_samples, num_features = X.shape\n",
        "        self.weights = np.random.randn(num_features)\n",
        "        self.bias = 0\n",
        "\n",
        "        for _ in range(self.n_iters):\n",
        "            y_pred = X @ self.weights + self.bias\n",
        "            error = y_pred - y\n",
        "            dw = (X.T @ error) / num_samples\n",
        "            db = np.sum(error) / num_samples\n",
        "\n",
        "            self.weights -= self.lr * dw\n",
        "            self.bias -= self.lr * db\n",
        "\n",
        "    def predict(self, X):\n",
        "        return X @ self.weights + self.bias\n",
        "\n",
        "# Train the model\n",
        "model = LinearRegression(lr=0.01, n_iters=1000)\n",
        "model.fit(x_train, y_train)\n",
        "\n",
        "# Predict on test set\n",
        "y_pred = model.predict(x_test)"
      ],
      "metadata": {
        "id": "DZAQOd-fIWAT"
      },
      "execution_count": 18,
      "outputs": []
    },
    {
      "cell_type": "markdown",
      "source": [
        "# Model Evaluation"
      ],
      "metadata": {
        "id": "1mDmsbZuekRX"
      }
    },
    {
      "cell_type": "code",
      "source": [
        "from sklearn.metrics import r2_score\n",
        "# Calculate MSE\n",
        "mse = np.mean((y_test - y_pred) ** 2)\n",
        "\n",
        "# Calculate RMSE\n",
        "rmse = np.sqrt(mse)\n",
        "\n",
        "# Calculate R-squared\n",
        "r2 = r2_score(y_test, y_pred)\n",
        "\n",
        "print(f\"Test RMSE: {rmse:.2f}\")\n",
        "print(f\"Test R²: {r2:.2f}\")\n"
      ],
      "metadata": {
        "id": "caoqoJKiKfEB",
        "colab": {
          "base_uri": "https://localhost:8080/"
        },
        "outputId": "6f4058a8-7d1b-4e8c-9404-7a39106a083d"
      },
      "execution_count": 19,
      "outputs": [
        {
          "output_type": "stream",
          "name": "stdout",
          "text": [
            "Test RMSE: 100503.25\n",
            "Test R²: 0.92\n"
          ]
        }
      ]
    },
    {
      "cell_type": "code",
      "source": [],
      "metadata": {
        "id": "Xv3-jfzLftMe"
      },
      "execution_count": null,
      "outputs": []
    }
  ]
}